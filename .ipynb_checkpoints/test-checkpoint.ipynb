{
 "cells": [
  {
   "cell_type": "code",
   "execution_count": 1,
   "metadata": {},
   "outputs": [],
   "source": [
    "import flickrapi\n",
    "import random\n",
    "import requests\n",
    "from PIL import Image\n",
    "from IPython import display\n",
    "import os\n",
    "import mosaic.models\n",
    "api_key = '5f0a0c4e04298e2e84ef379f8de4a7fe'\n",
    "api_secret = 'df521e620606493c'\n",
    "\n",
    "\n",
    "flickr = flickrapi.FlickrAPI(api_key, api_secret)\n",
    "try:\n",
    "    os.mkdir('flickr_photo')\n",
    "except OSError:\n",
    "    pass"
   ]
  },
  {
   "cell_type": "code",
   "execution_count": 2,
   "metadata": {},
   "outputs": [],
   "source": [
    "photos = flickr.photos.search(\n",
    "    page=random.randint(0, 100),\n",
    "    tags='red',\n",
    "    width=1920,\n",
    "    orientation='landscape',\n",
    "    content_type=1,\n",
    "    sort='relevance',\n",
    "    license='9,10',\n",
    "    format='parsed-json')\n",
    "# print(photos)"
   ]
  },
  {
   "cell_type": "code",
   "execution_count": 3,
   "metadata": {},
   "outputs": [
    {
     "name": "stdout",
     "output_type": "stream",
     "text": [
      "0\n",
      "https://live.staticflickr.com/65535/49223688458_354d0a4b07_s.jpg\n",
      "1\n",
      "https://live.staticflickr.com/65535/49224075476_d69b2436fb_s.jpg\n",
      "2\n",
      "https://live.staticflickr.com/65535/49224291047_986d1f2e7b_s.jpg\n",
      "3\n",
      "https://live.staticflickr.com/65535/49068050843_cbcae746f2_s.jpg\n",
      "4\n",
      "https://live.staticflickr.com/65535/49068564646_25eacf72a2_s.jpg\n",
      "5\n",
      "https://live.staticflickr.com/65535/49000114362_7a54ee664d_s.jpg\n",
      "6\n",
      "https://live.staticflickr.com/65535/46816224895_90b1286613_s.jpg\n",
      "7\n",
      "https://live.staticflickr.com/65535/40766215423_17ffcb9748_s.jpg\n",
      "8\n",
      "https://live.staticflickr.com/7839/33439669328_74ed7b74b4_s.jpg\n",
      "9\n",
      "https://live.staticflickr.com/7922/40350433163_d6a9b34ee6_s.jpg\n",
      "10\n",
      "https://live.staticflickr.com/1955/44874075344_904a6415b0_s.jpg\n",
      "11\n",
      "https://live.staticflickr.com/1956/44460419094_8a48ae4ac1_s.jpg\n",
      "12\n",
      "https://live.staticflickr.com/1909/43368625360_ca38400ac4_s.jpg\n",
      "13\n",
      "https://live.staticflickr.com/1946/44271740625_911595345f_s.jpg\n",
      "14\n",
      "https://live.staticflickr.com/1939/44460352744_0422c092e0_s.jpg\n",
      "15\n",
      "https://live.staticflickr.com/1937/44271737785_a14cded94d_s.jpg\n",
      "16\n",
      "https://live.staticflickr.com/1976/44460351224_613c297c91_s.jpg\n",
      "17\n",
      "https://live.staticflickr.com/1943/44460350254_504d41cc8a_s.jpg\n",
      "18\n",
      "https://live.staticflickr.com/1967/44271735825_d4a4b97e65_s.jpg\n",
      "19\n",
      "https://live.staticflickr.com/1902/43368575420_c8883b6076_s.jpg\n",
      "20\n",
      "https://live.staticflickr.com/1738/42769849952_336c939455_s.jpg\n",
      "21\n",
      "https://live.staticflickr.com/65535/49217359832_173e1da60a_s.jpg\n",
      "22\n",
      "https://live.staticflickr.com/65535/48936091341_1436b38859_s.jpg\n",
      "23\n",
      "https://live.staticflickr.com/65535/48890411736_4917e0ded9_s.jpg\n",
      "24\n",
      "https://live.staticflickr.com/65535/48890590507_c6d72494a2_s.jpg\n",
      "25\n",
      "https://live.staticflickr.com/65535/48890409471_1fb1a4f97e_s.jpg\n",
      "26\n",
      "https://live.staticflickr.com/65535/48890589572_8210f62119_s.jpg\n",
      "27\n",
      "https://live.staticflickr.com/65535/48890588842_94b7d77435_s.jpg\n",
      "28\n",
      "https://live.staticflickr.com/65535/48890407836_61f666f993_s.jpg\n",
      "29\n",
      "https://live.staticflickr.com/65535/48889876363_519ed546cf_s.jpg\n",
      "30\n",
      "https://live.staticflickr.com/65535/48889875123_3485116c0c_s.jpg\n",
      "31\n",
      "https://live.staticflickr.com/65535/48890405731_942ba02b5f_s.jpg\n",
      "32\n",
      "https://live.staticflickr.com/65535/48889874153_316acf62d0_s.jpg\n",
      "33\n",
      "https://live.staticflickr.com/65535/48890404986_797bc5dde4_s.jpg\n",
      "34\n",
      "https://live.staticflickr.com/65535/48765709782_000bee1fae_s.jpg\n",
      "35\n",
      "https://live.staticflickr.com/65535/48669292591_5bc3661155_s.jpg\n",
      "36\n",
      "https://live.staticflickr.com/65535/48669292336_721db86379_s.jpg\n",
      "37\n",
      "https://live.staticflickr.com/65535/48186094231_e9b5c869c1_s.jpg\n",
      "38\n",
      "https://live.staticflickr.com/65535/48186147507_3c34b77e1f_s.jpg\n",
      "39\n",
      "https://live.staticflickr.com/65535/48186073381_c03e0210e2_s.jpg\n",
      "40\n",
      "https://live.staticflickr.com/65535/48186124192_010a3fe993_s.jpg\n",
      "41\n",
      "https://live.staticflickr.com/65535/48186061361_48b2cb8d84_s.jpg\n",
      "42\n",
      "https://live.staticflickr.com/65535/48186058606_2a86d78410_s.jpg\n",
      "43\n",
      "https://live.staticflickr.com/65535/48186118637_119e1a24a7_s.jpg\n",
      "44\n",
      "https://live.staticflickr.com/65535/48186049691_b94886ed47_s.jpg\n",
      "45\n",
      "https://live.staticflickr.com/65535/48186109637_3094f7606a_s.jpg\n",
      "46\n",
      "https://live.staticflickr.com/65535/40766241573_a7c5c40d9f_s.jpg\n",
      "47\n",
      "https://live.staticflickr.com/65535/46816213445_1e4367c5df_s.jpg\n",
      "48\n",
      "https://live.staticflickr.com/65535/40766228743_fe30ed81c9_s.jpg\n",
      "49\n",
      "https://live.staticflickr.com/65535/47679656732_f1e7298567_s.jpg\n",
      "50\n",
      "https://live.staticflickr.com/65535/40766209903_071b819849_s.jpg\n",
      "51\n",
      "https://live.staticflickr.com/65535/46816178965_d836c2c428_s.jpg\n",
      "52\n",
      "https://live.staticflickr.com/65535/47575675252_a8bae9a051_s.jpg\n",
      "53\n",
      "https://live.staticflickr.com/65535/33751116268_6ae7ce85a1_s.jpg\n",
      "54\n",
      "https://live.staticflickr.com/65535/47628377621_46526f4b2d_s.jpg\n",
      "55\n",
      "https://live.staticflickr.com/65535/32685861627_88866b84bd_s.jpg\n",
      "56\n",
      "https://live.staticflickr.com/65535/32685859537_9441fa3b26_s.jpg\n",
      "57\n",
      "https://live.staticflickr.com/65535/32685858927_e6fe0a4755_s.jpg\n",
      "58\n",
      "https://live.staticflickr.com/7801/47496832972_2858bbc992_s.jpg\n",
      "59\n",
      "https://live.staticflickr.com/7880/40328572103_8d28b7a81e_s.jpg\n",
      "60\n",
      "https://live.staticflickr.com/7843/40328562593_661b9450cd_s.jpg\n",
      "61\n",
      "https://live.staticflickr.com/7925/32322742717_72dbd7b993_s.jpg\n",
      "62\n",
      "https://live.staticflickr.com/7908/47113940352_9b349f72f4_s.jpg\n",
      "63\n",
      "https://live.staticflickr.com/7927/46666610932_cd4815afa2_s.jpg\n",
      "64\n",
      "https://live.staticflickr.com/7876/46694607711_f13ca0e9cb_s.jpg\n",
      "65\n",
      "https://live.staticflickr.com/4824/46641796222_4771a029bc_s.jpg\n",
      "66\n",
      "https://live.staticflickr.com/4912/46255035221_0f2704f630_s.jpg\n",
      "67\n",
      "https://live.staticflickr.com/4916/45735907291_30045c68a2_s.jpg\n",
      "68\n",
      "https://live.staticflickr.com/1930/44914865794_1124ac0c3b_s.jpg\n",
      "69\n",
      "https://live.staticflickr.com/1936/43640618940_de292a81af_s.jpg\n",
      "70\n",
      "https://live.staticflickr.com/1903/43368627650_5675ea0554_s.jpg\n",
      "71\n",
      "https://live.staticflickr.com/1938/30244165247_9b546a9566_s.jpg\n",
      "72\n",
      "https://live.staticflickr.com/1936/31308740348_9f0f512662_s.jpg\n",
      "73\n",
      "https://live.staticflickr.com/1886/42791347500_b44155cc3c_s.jpg\n",
      "74\n",
      "https://live.staticflickr.com/1854/42727085630_d72a0c95a4_s.jpg\n",
      "75\n",
      "https://live.staticflickr.com/1832/44149762372_703ab0b2f7_s.jpg\n",
      "76\n",
      "https://live.staticflickr.com/1852/29220624217_0f0682c001_s.jpg\n",
      "77\n",
      "https://live.staticflickr.com/1833/29201328397_798d06976b_s.jpg\n",
      "78\n",
      "https://live.staticflickr.com/1870/29201295547_ba0c895a21_s.jpg\n",
      "79\n",
      "https://live.staticflickr.com/1831/29178051257_c401420bf4_s.jpg\n",
      "80\n",
      "https://live.staticflickr.com/1779/43774209461_ddcb328fc8_s.jpg\n",
      "81\n",
      "https://live.staticflickr.com/1832/29134740658_b38c136f6d_s.jpg\n",
      "82\n",
      "https://live.staticflickr.com/1760/42769866292_7b224ecb7d_s.jpg\n",
      "83\n",
      "https://live.staticflickr.com/1752/42769865022_3e691d495d_s.jpg\n",
      "84\n",
      "https://live.staticflickr.com/1732/42769856762_1146813b41_s.jpg\n",
      "85\n",
      "https://live.staticflickr.com/895/42769855432_05fd0e7da5_s.jpg\n",
      "86\n",
      "https://live.staticflickr.com/887/42769854082_33f5d7cb91_s.jpg\n",
      "87\n",
      "https://live.staticflickr.com/1736/42769853612_f010c7fd64_s.jpg\n",
      "88\n",
      "https://live.staticflickr.com/1741/42769851592_6c4d174717_s.jpg\n",
      "89\n",
      "https://live.staticflickr.com/1729/42818787081_9e55e786c8_s.jpg\n",
      "90\n",
      "https://live.staticflickr.com/884/42818786451_35cef43d15_s.jpg\n",
      "91\n",
      "https://live.staticflickr.com/1753/27949565017_bc6f83f4c4_s.jpg\n",
      "92\n",
      "https://live.staticflickr.com/884/27949563787_95449d8f17_s.jpg\n",
      "93\n",
      "https://live.staticflickr.com/880/42769836672_6d2d8e2514_s.jpg\n",
      "94\n",
      "https://live.staticflickr.com/1725/42769836322_03c404b485_s.jpg\n",
      "95\n",
      "https://live.staticflickr.com/887/41008159260_344663a9a0_s.jpg\n",
      "96\n",
      "https://live.staticflickr.com/891/41008156990_e258ec5107_s.jpg\n",
      "97\n",
      "https://live.staticflickr.com/887/27949551667_f114ba3f0a_s.jpg\n",
      "98\n",
      "https://live.staticflickr.com/875/28945448578_a4045f3392_s.jpg\n",
      "99\n",
      "https://live.staticflickr.com/1750/28945448158_f692b0a7a8_s.jpg\n",
      "ok\n"
     ]
    }
   ],
   "source": [
    "for i, photo in enumerate(photos['photos']['photo']):\n",
    "    print(i)\n",
    "    finded_photo = flickr.photos.getSizes(\n",
    "        photo_id=photo['id'], format='parsed-json')['sizes']['size'][0]\n",
    "    if finded_photo['label'] == \"Square\":\n",
    "        print(finded_photo['source'])\n",
    "        img = requests.get(finded_photo['source'])\n",
    "        img_file = open(f'flickr_photo/{i}.jpg', 'wb')\n",
    "        img_file.write(img.content)\n",
    "        img_file.close()\n",
    "print(\"ok\")"
   ]
  },
  {
   "cell_type": "code",
   "execution_count": 4,
   "metadata": {},
   "outputs": [
    {
     "name": "stdout",
     "output_type": "stream",
     "text": [
      "85 85 79\n"
     ]
    },
    {
     "data": {
      "image/jpeg": "[encoded data removed]"
     },
     "metadata": {},
     "output_type": "display_data"
    },
    {
     "name": "stdout",
     "output_type": "stream",
     "text": [
      "117 104 140\n"
     ]
    },
    {
     "data": {
      "image/jpeg": "[encoded data removed]"
     },
     "metadata": {},
     "output_type": "display_data"
    },
    {
     "name": "stdout",
     "output_type": "stream",
     "text": [
      "67 105 159\n"
     ]
    },
    {
     "data": {
      "image/jpeg": "[encoded data removed]"
     },
     "metadata": {},
     "output_type": "display_data"
    },
    {
     "name": "stdout",
     "output_type": "stream",
     "text": [
      "90 69 31\n"
     ]
    },
    {
     "data": {
      "image/jpeg": "[encoded data removed]"
     },
     "metadata": {},
     "output_type": "display_data"
    },
    {
     "name": "stdout",
     "output_type": "stream",
     "text": [
      "138 120 72\n"
     ]
    },
    {
     "data": {
      "image/jpeg": "[encoded data removed]"
     },
     "metadata": {},
     "output_type": "display_data"
    },
    {
     "name": "stdout",
     "output_type": "stream",
     "text": [
      "184 189 189\n"
     ]
    },
    {
     "data": {
      "image/jpeg": "[encoded data removed]"
     },
     "metadata": {},
     "output_type": "display_data"
    },
    {
     "name": "stdout",
     "output_type": "stream",
     "text": [
      "132 83 80\n"
     ]
    },
    {
     "data": {
      "image/jpeg": "[encoded data removed]"
     },
     "metadata": {},
     "output_type": "display_data"
    },
    {
     "name": "stdout",
     "output_type": "stream",
     "text": [
      "88 51 20\n"
     ]
    },
    {
     "data": {
      "image/jpeg": "[encoded data removed]"
     },
     "metadata": {},
     "output_type": "display_data"
    },
    {
     "name": "stdout",
     "output_type": "stream",
     "text": [
      "95 93 89\n"
     ]
    },
    {
     "data": {
      "image/jpeg": "[encoded data removed]"
     },
     "metadata": {},
     "output_type": "display_data"
    },
    {
     "name": "stdout",
     "output_type": "stream",
     "text": [
      "89 91 85\n"
     ]
    },
    {
     "data": {
      "image/jpeg": "[encoded data removed]"
     },
     "metadata": {},
     "output_type": "display_data"
    },
    {
     "name": "stdout",
     "output_type": "stream",
     "text": [
      "244 205 184\n"
     ]
    },
    {
     "data": {
      "image/jpeg": "[encoded data removed]"
     },
     "metadata": {},
     "output_type": "display_data"
    },
    {
     "name": "stdout",
     "output_type": "stream",
     "text": [
      "90 81 81\n"
     ]
    },
    {
     "data": {
      "image/jpeg": "[encoded data removed]"
     },
     "metadata": {},
     "output_type": "display_data"
    },
    {
     "name": "stdout",
     "output_type": "stream",
     "text": [
      "15 16 13\n"
     ]
    },
    {
     "data": {
      "image/jpeg": "[encoded data removed]"
     },
     "metadata": {},
     "output_type": "display_data"
    },
    {
     "name": "stdout",
     "output_type": "stream",
     "text": [
      "34 34 32\n"
     ]
    },
    {
     "data": {
      "image/jpeg": "[encoded data removed]"
     },
     "metadata": {},
     "output_type": "display_data"
    },
    {
     "name": "stdout",
     "output_type": "stream",
     "text": [
      "22 23 22\n"
     ]
    },
    {
     "data": {
      "image/jpeg": "[encoded data removed]"
     },
     "metadata": {},
     "output_type": "display_data"
    },
    {
     "name": "stdout",
     "output_type": "stream",
     "text": [
      "23 24 22\n"
     ]
    },
    {
     "data": {
      "image/jpeg": "[encoded data removed]"
     },
     "metadata": {},
     "output_type": "display_data"
    },
    {
     "name": "stdout",
     "output_type": "stream",
     "text": [
      "33 32 29\n"
     ]
    },
    {
     "data": {
      "image/jpeg": "[encoded data removed]"
     },
     "metadata": {},
     "output_type": "display_data"
    },
    {
     "name": "stdout",
     "output_type": "stream",
     "text": [
      "40 42 42\n"
     ]
    },
    {
     "data": {
      "image/jpeg": "[encoded data removed]"
     },
     "metadata": {},
     "output_type": "display_data"
    },
    {
     "name": "stdout",
     "output_type": "stream",
     "text": [
      "18 21 23\n"
     ]
    },
    {
     "data": {
      "image/jpeg": "[encoded data removed]"
     },
     "metadata": {},
     "output_type": "display_data"
    },
    {
     "name": "stdout",
     "output_type": "stream",
     "text": [
      "20 20 18\n"
     ]
    },
    {
     "data": {
      "image/jpeg": "[encoded data removed]"
     },
     "metadata": {},
     "output_type": "display_data"
    },
    {
     "name": "stdout",
     "output_type": "stream",
     "text": [
      "94 90 85\n"
     ]
    },
    {
     "data": {
      "image/jpeg": "[encoded data removed]"
     },
     "metadata": {},
     "output_type": "display_data"
    },
    {
     "name": "stdout",
     "output_type": "stream",
     "text": [
      "107 125 145\n"
     ]
    },
    {
     "data": {
      "image/jpeg": "[encoded data removed]"
     },
     "metadata": {},
     "output_type": "display_data"
    },
    {
     "name": "stdout",
     "output_type": "stream",
     "text": [
      "121 127 124\n"
     ]
    },
    {
     "data": {
      "image/jpeg": "[encoded data removed]"
     },
     "metadata": {},
     "output_type": "display_data"
    },
    {
     "name": "stdout",
     "output_type": "stream",
     "text": [
      "37 20 14\n"
     ]
    },
    {
     "data": {
      "image/jpeg": "[encoded data removed]"
     },
     "metadata": {},
     "output_type": "display_data"
    },
    {
     "name": "stdout",
     "output_type": "stream",
     "text": [
      "23 21 20\n"
     ]
    },
    {
     "data": {
      "image/jpeg": "[encoded data removed]"
     },
     "metadata": {},
     "output_type": "display_data"
    },
    {
     "name": "stdout",
     "output_type": "stream",
     "text": [
      "8 6 5\n"
     ]
    },
    {
     "data": {
      "image/jpeg": "[encoded data removed]"
     },
     "metadata": {},
     "output_type": "display_data"
    },
    {
     "name": "stdout",
     "output_type": "stream",
     "text": [
      "5 4 4\n"
     ]
    },
    {
     "data": {
      "image/jpeg": "[encoded data removed]"
     },
     "metadata": {},
     "output_type": "display_data"
    },
    {
     "name": "stdout",
     "output_type": "stream",
     "text": [
      "10 9 9\n"
     ]
    },
    {
     "data": {
      "image/jpeg": "[encoded data removed]"
     },
     "metadata": {},
     "output_type": "display_data"
    },
    {
     "name": "stdout",
     "output_type": "stream",
     "text": [
      "22 22 21\n"
     ]
    },
    {
     "data": {
      "image/jpeg": "[encoded data removed]"
     },
     "metadata": {},
     "output_type": "display_data"
    },
    {
     "name": "stdout",
     "output_type": "stream",
     "text": [
      "23 22 22\n"
     ]
    },
    {
     "data": {
      "image/jpeg": "[encoded data removed]"
     },
     "metadata": {},
     "output_type": "display_data"
    },
    {
     "name": "stdout",
     "output_type": "stream",
     "text": [
      "15 15 15\n"
     ]
    },
    {
     "data": {
      "image/jpeg": "[encoded data removed]"
     },
     "metadata": {},
     "output_type": "display_data"
    },
    {
     "name": "stdout",
     "output_type": "stream",
     "text": [
      "12 12 11\n"
     ]
    },
    {
     "data": {
      "image/jpeg": "[encoded data removed]"
     },
     "metadata": {},
     "output_type": "display_data"
    },
    {
     "name": "stdout",
     "output_type": "stream",
     "text": [
      "35 35 35\n"
     ]
    },
    {
     "data": {
      "image/jpeg": "[encoded data removed]"
     },
     "metadata": {},
     "output_type": "display_data"
    },
    {
     "name": "stdout",
     "output_type": "stream",
     "text": [
      "91 91 91\n"
     ]
    },
    {
     "data": {
      "image/jpeg": "[encoded data removed]"
     },
     "metadata": {},
     "output_type": "display_data"
    },
    {
     "name": "stdout",
     "output_type": "stream",
     "text": [
      "159 161 71\n"
     ]
    },
    {
     "data": {
      "image/jpeg": "[encoded data removed]"
     },
     "metadata": {},
     "output_type": "display_data"
    },
    {
     "name": "stdout",
     "output_type": "stream",
     "text": [
      "144 119 99\n"
     ]
    },
    {
     "data": {
      "image/jpeg": "[encoded data removed]"
     },
     "metadata": {},
     "output_type": "display_data"
    },
    {
     "name": "stdout",
     "output_type": "stream",
     "text": [
      "153 127 99\n"
     ]
    },
    {
     "data": {
      "image/jpeg": "[encoded data removed]"
     },
     "metadata": {},
     "output_type": "display_data"
    },
    {
     "name": "stdout",
     "output_type": "stream",
     "text": [
      "89 39 41\n"
     ]
    },
    {
     "data": {
      "image/jpeg": "[encoded data removed]"
     },
     "metadata": {},
     "output_type": "display_data"
    },
    {
     "name": "stdout",
     "output_type": "stream",
     "text": [
      "60 31 28\n"
     ]
    },
    {
     "data": {
      "image/jpeg": "[encoded data removed]"
     },
     "metadata": {},
     "output_type": "display_data"
    },
    {
     "name": "stdout",
     "output_type": "stream",
     "text": [
      "41 23 25\n"
     ]
    },
    {
     "data": {
      "image/jpeg": "[encoded data removed]"
     },
     "metadata": {},
     "output_type": "display_data"
    },
    {
     "name": "stdout",
     "output_type": "stream",
     "text": [
      "48 15 19\n"
     ]
    },
    {
     "data": {
      "image/jpeg": "[encoded data removed]"
     },
     "metadata": {},
     "output_type": "display_data"
    },
    {
     "name": "stdout",
     "output_type": "stream",
     "text": [
      "28 22 22\n"
     ]
    },
    {
     "data": {
      "image/jpeg": "[encoded data removed]"
     },
     "metadata": {},
     "output_type": "display_data"
    },
    {
     "name": "stdout",
     "output_type": "stream",
     "text": [
      "25 19 20\n"
     ]
    },
    {
     "data": {
      "image/jpeg": "[encoded data removed]"
     },
     "metadata": {},
     "output_type": "display_data"
    },
    {
     "name": "stdout",
     "output_type": "stream",
     "text": [
      "19 16 18\n"
     ]
    },
    {
     "data": {
      "image/jpeg": "[encoded data removed]"
     },
     "metadata": {},
     "output_type": "display_data"
    },
    {
     "name": "stdout",
     "output_type": "stream",
     "text": [
      "61 53 55\n"
     ]
    },
    {
     "data": {
      "image/jpeg": "[encoded data removed]"
     },
     "metadata": {},
     "output_type": "display_data"
    },
    {
     "name": "stdout",
     "output_type": "stream",
     "text": [
      "27 26 28\n"
     ]
    },
    {
     "data": {
      "image/jpeg": "[encoded data removed]"
     },
     "metadata": {},
     "output_type": "display_data"
    },
    {
     "name": "stdout",
     "output_type": "stream",
     "text": [
      "28 17 21\n"
     ]
    },
    {
     "data": {
      "image/jpeg": "[encoded data removed]"
     },
     "metadata": {},
     "output_type": "display_data"
    },
    {
     "name": "stdout",
     "output_type": "stream",
     "text": [
      "130 43 25\n"
     ]
    },
    {
     "data": {
      "image/jpeg": "[encoded data removed]"
     },
     "metadata": {},
     "output_type": "display_data"
    },
    {
     "name": "stdout",
     "output_type": "stream",
     "text": [
      "78 63 51\n"
     ]
    },
    {
     "data": {
      "image/jpeg": "[encoded data removed]"
     },
     "metadata": {},
     "output_type": "display_data"
    },
    {
     "name": "stdout",
     "output_type": "stream",
     "text": [
      "152 15 15\n"
     ]
    },
    {
     "data": {
      "image/jpeg": "[encoded data removed]"
     },
     "metadata": {},
     "output_type": "display_data"
    },
    {
     "name": "stdout",
     "output_type": "stream",
     "text": [
      "151 51 14\n"
     ]
    },
    {
     "data": {
      "image/jpeg": "[encoded data removed]"
     },
     "metadata": {},
     "output_type": "display_data"
    },
    {
     "name": "stdout",
     "output_type": "stream",
     "text": [
      "118 116 123\n"
     ]
    },
    {
     "data": {
      "image/jpeg": "[encoded data removed]"
     },
     "metadata": {},
     "output_type": "display_data"
    },
    {
     "name": "stdout",
     "output_type": "stream",
     "text": [
      "95 90 84\n"
     ]
    },
    {
     "data": {
      "image/jpeg": "[encoded data removed]"
     },
     "metadata": {},
     "output_type": "display_data"
    },
    {
     "name": "stdout",
     "output_type": "stream",
     "text": [
      "87 75 74\n"
     ]
    },
    {
     "data": {
      "image/jpeg": "[encoded data removed]"
     },
     "metadata": {},
     "output_type": "display_data"
    },
    {
     "name": "stdout",
     "output_type": "stream",
     "text": [
      "72 61 55\n"
     ]
    },
    {
     "data": {
      "image/jpeg": "[encoded data removed]"
     },
     "metadata": {},
     "output_type": "display_data"
    },
    {
     "name": "stdout",
     "output_type": "stream",
     "text": [
      "92 91 83\n"
     ]
    },
    {
     "data": {
      "image/jpeg": "[encoded data removed]"
     },
     "metadata": {},
     "output_type": "display_data"
    },
    {
     "name": "stdout",
     "output_type": "stream",
     "text": [
      "88 84 75\n"
     ]
    },
    {
     "data": {
      "image/jpeg": "[encoded data removed]"
     },
     "metadata": {},
     "output_type": "display_data"
    },
    {
     "name": "stdout",
     "output_type": "stream",
     "text": [
      "77 83 81\n"
     ]
    },
    {
     "data": {
      "image/jpeg": "[encoded data removed]"
     },
     "metadata": {},
     "output_type": "display_data"
    },
    {
     "name": "stdout",
     "output_type": "stream",
     "text": [
      "85 75 65\n"
     ]
    },
    {
     "data": {
      "image/jpeg": "[encoded data removed]"
     },
     "metadata": {},
     "output_type": "display_data"
    },
    {
     "name": "stdout",
     "output_type": "stream",
     "text": [
      "104 112 53\n"
     ]
    },
    {
     "data": {
      "image/jpeg": "[encoded data removed]"
     },
     "metadata": {},
     "output_type": "display_data"
    },
    {
     "name": "stdout",
     "output_type": "stream",
     "text": [
      "89 92 51\n"
     ]
    },
    {
     "data": {
      "image/jpeg": "[encoded data removed]"
     },
     "metadata": {},
     "output_type": "display_data"
    },
    {
     "name": "stdout",
     "output_type": "stream",
     "text": [
      "127 115 106\n"
     ]
    },
    {
     "data": {
      "image/jpeg": "[encoded data removed]"
     },
     "metadata": {},
     "output_type": "display_data"
    },
    {
     "name": "stdout",
     "output_type": "stream",
     "text": [
      "100 12 23\n"
     ]
    },
    {
     "data": {
      "image/jpeg": "[encoded data removed]"
     },
     "metadata": {},
     "output_type": "display_data"
    },
    {
     "name": "stdout",
     "output_type": "stream",
     "text": [
      "87 92 84\n"
     ]
    },
    {
     "data": {
      "image/jpeg": "[encoded data removed]"
     },
     "metadata": {},
     "output_type": "display_data"
    },
    {
     "name": "stdout",
     "output_type": "stream",
     "text": [
      "228 150 135\n"
     ]
    },
    {
     "data": {
      "image/jpeg": "[encoded data removed]"
     },
     "metadata": {},
     "output_type": "display_data"
    },
    {
     "name": "stdout",
     "output_type": "stream",
     "text": [
      "222 146 130\n"
     ]
    },
    {
     "data": {
      "image/jpeg": "[encoded data removed]"
     },
     "metadata": {},
     "output_type": "display_data"
    },
    {
     "name": "stdout",
     "output_type": "stream",
     "text": [
      "98 31 7\n"
     ]
    },
    {
     "data": {
      "image/jpeg": "[encoded data removed]"
     },
     "metadata": {},
     "output_type": "display_data"
    },
    {
     "name": "stdout",
     "output_type": "stream",
     "text": [
      "151 119 111\n"
     ]
    },
    {
     "data": {
      "image/jpeg": "[encoded data removed]"
     },
     "metadata": {},
     "output_type": "display_data"
    },
    {
     "name": "stdout",
     "output_type": "stream",
     "text": [
      "126 151 170\n"
     ]
    },
    {
     "data": {
      "image/jpeg": "[encoded data removed]"
     },
     "metadata": {},
     "output_type": "display_data"
    },
    {
     "name": "stdout",
     "output_type": "stream",
     "text": [
      "87 92 115\n"
     ]
    },
    {
     "data": {
      "image/jpeg": "[encoded data removed]"
     },
     "metadata": {},
     "output_type": "display_data"
    },
    {
     "name": "stdout",
     "output_type": "stream",
     "text": [
      "12 13 10\n"
     ]
    },
    {
     "data": {
      "image/jpeg": "[encoded data removed]"
     },
     "metadata": {},
     "output_type": "display_data"
    },
    {
     "name": "stdout",
     "output_type": "stream",
     "text": [
      "74 73 70\n"
     ]
    },
    {
     "data": {
      "image/jpeg": "[encoded data removed]"
     },
     "metadata": {},
     "output_type": "display_data"
    },
    {
     "name": "stdout",
     "output_type": "stream",
     "text": [
      "12 12 11\n"
     ]
    },
    {
     "data": {
      "image/jpeg": "[encoded data removed]"
     },
     "metadata": {},
     "output_type": "display_data"
    },
    {
     "name": "stdout",
     "output_type": "stream",
     "text": [
      "111 126 77\n"
     ]
    },
    {
     "data": {
      "image/jpeg": "[encoded data removed]"
     },
     "metadata": {},
     "output_type": "display_data"
    },
    {
     "name": "stdout",
     "output_type": "stream",
     "text": [
      "115 123 110\n"
     ]
    },
    {
     "data": {
      "image/jpeg": "[encoded data removed]"
     },
     "metadata": {},
     "output_type": "display_data"
    },
    {
     "name": "stdout",
     "output_type": "stream",
     "text": [
      "149 154 115\n"
     ]
    },
    {
     "data": {
      "image/jpeg": "[encoded data removed]"
     },
     "metadata": {},
     "output_type": "display_data"
    },
    {
     "name": "stdout",
     "output_type": "stream",
     "text": [
      "187 134 134\n"
     ]
    },
    {
     "data": {
      "image/jpeg": "[encoded data removed]"
     },
     "metadata": {},
     "output_type": "display_data"
    },
    {
     "name": "stdout",
     "output_type": "stream",
     "text": [
      "96 103 64\n"
     ]
    },
    {
     "data": {
      "image/jpeg": "[encoded data removed]"
     },
     "metadata": {},
     "output_type": "display_data"
    },
    {
     "name": "stdout",
     "output_type": "stream",
     "text": [
      "116 126 92\n"
     ]
    },
    {
     "data": {
      "image/jpeg": "[encoded data removed]"
     },
     "metadata": {},
     "output_type": "display_data"
    },
    {
     "name": "stdout",
     "output_type": "stream",
     "text": [
      "93 98 59\n"
     ]
    },
    {
     "data": {
      "image/jpeg": "[encoded data removed]"
     },
     "metadata": {},
     "output_type": "display_data"
    },
    {
     "name": "stdout",
     "output_type": "stream",
     "text": [
      "123 112 110\n"
     ]
    },
    {
     "data": {
      "image/jpeg": "[encoded data removed]"
     },
     "metadata": {},
     "output_type": "display_data"
    },
    {
     "name": "stdout",
     "output_type": "stream",
     "text": [
      "136 139 102\n"
     ]
    },
    {
     "data": {
      "image/jpeg": "[encoded data removed]"
     },
     "metadata": {},
     "output_type": "display_data"
    },
    {
     "name": "stdout",
     "output_type": "stream",
     "text": [
      "44 41 40\n"
     ]
    },
    {
     "data": {
      "image/jpeg": "[encoded data removed]"
     },
     "metadata": {},
     "output_type": "display_data"
    },
    {
     "name": "stdout",
     "output_type": "stream",
     "text": [
      "115 118 118\n"
     ]
    },
    {
     "data": {
      "image/jpeg": "[encoded data removed]"
     },
     "metadata": {},
     "output_type": "display_data"
    },
    {
     "name": "stdout",
     "output_type": "stream",
     "text": [
      "66 66 63\n"
     ]
    },
    {
     "data": {
      "image/jpeg": "[encoded data removed]"
     },
     "metadata": {},
     "output_type": "display_data"
    },
    {
     "name": "stdout",
     "output_type": "stream",
     "text": [
      "47 46 43\n"
     ]
    },
    {
     "data": {
      "image/jpeg": "[encoded data removed]"
     },
     "metadata": {},
     "output_type": "display_data"
    },
    {
     "name": "stdout",
     "output_type": "stream",
     "text": [
      "123 109 139\n"
     ]
    },
    {
     "data": {
      "image/jpeg": "[encoded data removed]"
     },
     "metadata": {},
     "output_type": "display_data"
    },
    {
     "name": "stdout",
     "output_type": "stream",
     "text": [
      "119 107 137\n"
     ]
    },
    {
     "data": {
      "image/jpeg": "[encoded data removed]"
     },
     "metadata": {},
     "output_type": "display_data"
    },
    {
     "name": "stdout",
     "output_type": "stream",
     "text": [
      "100 93 80\n"
     ]
    },
    {
     "data": {
      "image/jpeg": "[encoded data removed]"
     },
     "metadata": {},
     "output_type": "display_data"
    },
    {
     "name": "stdout",
     "output_type": "stream",
     "text": [
      "128 78 52\n"
     ]
    },
    {
     "data": {
      "image/jpeg": "[encoded data removed]"
     },
     "metadata": {},
     "output_type": "display_data"
    },
    {
     "name": "stdout",
     "output_type": "stream",
     "text": [
      "78 44 25\n"
     ]
    },
    {
     "data": {
      "image/jpeg": "[encoded data removed]"
     },
     "metadata": {},
     "output_type": "display_data"
    },
    {
     "name": "stdout",
     "output_type": "stream",
     "text": [
      "140 126 112\n"
     ]
    },
    {
     "data": {
      "image/jpeg": "[encoded data removed]"
     },
     "metadata": {},
     "output_type": "display_data"
    },
    {
     "name": "stdout",
     "output_type": "stream",
     "text": [
      "115 101 116\n"
     ]
    },
    {
     "data": {
      "image/jpeg": "[encoded data removed]"
     },
     "metadata": {},
     "output_type": "display_data"
    },
    {
     "name": "stdout",
     "output_type": "stream",
     "text": [
      "143 126 136\n"
     ]
    },
    {
     "data": {
      "image/jpeg": "[encoded data removed]"
     },
     "metadata": {},
     "output_type": "display_data"
    },
    {
     "name": "stdout",
     "output_type": "stream",
     "text": [
      "120 107 118\n"
     ]
    },
    {
     "data": {
      "image/jpeg": "[encoded data removed]"
     },
     "metadata": {},
     "output_type": "display_data"
    },
    {
     "name": "stdout",
     "output_type": "stream",
     "text": [
      "89 59 56\n"
     ]
    },
    {
     "data": {
      "image/jpeg": "[encoded data removed]"
     },
     "metadata": {},
     "output_type": "display_data"
    },
    {
     "name": "stdout",
     "output_type": "stream",
     "text": [
      "146 95 116\n"
     ]
    },
    {
     "data": {
      "image/jpeg": "[encoded data removed]"
     },
     "metadata": {},
     "output_type": "display_data"
    },
    {
     "name": "stdout",
     "output_type": "stream",
     "text": [
      "142 104 112\n"
     ]
    },
    {
     "data": {
      "image/jpeg": "[encoded data removed]"
     },
     "metadata": {},
     "output_type": "display_data"
    },
    {
     "name": "stdout",
     "output_type": "stream",
     "text": [
      "37 38 37\n"
     ]
    },
    {
     "data": {
      "image/jpeg": "[encoded data removed]"
     },
     "metadata": {},
     "output_type": "display_data"
    },
    {
     "name": "stdout",
     "output_type": "stream",
     "text": [
      "28 29 27\n"
     ]
    },
    {
     "data": {
      "image/jpeg": "[encoded data removed]"
     },
     "metadata": {},
     "output_type": "display_data"
    }
   ],
   "source": [
    "for i in range(100):\n",
    "    image = Image.open(f'flickr_photo/{i}.jpg')\n",
    "\n",
    "    w, h = image.size\n",
    "    rr, gg, bb = 0, 0, 0\n",
    "\n",
    "    for x in range(w):\n",
    "        for y in range(h):\n",
    "            r, g, b = image.getpixel((x, y))\n",
    "            rr += r\n",
    "            gg += g\n",
    "            bb += b\n",
    "\n",
    "    cnt = w * h\n",
    "    print(rr//cnt, gg//cnt, bb//cnt)\n",
    "    awg_color = Image.new('RGB', (150, 75), color=(rr//cnt, gg//cnt, bb//cnt))\n",
    "    awg_color.paste(image, (0, 0, 75, 75))\n",
    "    awg_color.save(f'flickr_photo/awg_{i}.jpg', \"JPEG\")\n",
    "    image = display.Image(f'flickr_photo/{i}.jpg')\n",
    "    awg_color = display.Image(f'flickr_photo/awg_{i}.jpg')\n",
    "    display.display_jpeg(awg_color)\n"
   ]
  },
  {
   "cell_type": "code",
   "execution_count": 5,
   "metadata": {},
   "outputs": [
    {
     "data": {
      "text/plain": [
       "'P:\\\\dreamkas_billing'"
      ]
     },
     "execution_count": 5,
     "metadata": {},
     "output_type": "execute_result"
    }
   ],
   "source": [
    "os.getcwd()"
   ]
  },
  {
   "cell_type": "code",
   "execution_count": null,
   "metadata": {},
   "outputs": [],
   "source": []
  }
 ],
 "metadata": {
  "file_extension": ".py",
  "kernelspec": {
   "display_name": "Django Shell-Plus",
   "language": "python",
   "name": "django_extensions"
  },
  "language_info": {
   "codemirror_mode": {
    "name": "ipython",
    "version": 3
   },
   "file_extension": ".py",
   "mimetype": "text/x-python",
   "name": "python",
   "nbconvert_exporter": "python",
   "pygments_lexer": "ipython3",
   "version": "3.8.1"
  },
  "mimetype": "text/x-python",
  "name": "python",
  "npconvert_exporter": "python",
  "pygments_lexer": "ipython3",
  "version": 3
 },
 "nbformat": 4,
 "nbformat_minor": 2
}
